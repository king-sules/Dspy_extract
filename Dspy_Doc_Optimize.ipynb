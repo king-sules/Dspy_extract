{
 "cells": [
  {
   "cell_type": "markdown",
   "id": "5de7bd89-aa57-4ce0-b792-9ca1a4122614",
   "metadata": {},
   "source": [
    "# **DSPy Extravaganza**\n",
    "\n",
    "This notebook explores the possiblities of using DSPy to further optimize Gemini output.\n",
    "\n",
    "DSPy stands for Declarative Self-improving Python and is basically a library that handles the prompt engineering _programmically_. You can see documentation here: \n",
    "https://dspy.ai\n",
    "I have structured this notebook in 5 parts. \n",
    "\n",
    "1. Loading Googles Gemini model and setting up mlflow\n",
    "2. Creating a pydantic model to validate the json output response, and the architecture of the DSPy signature (more info on signature later)\n",
    "3. Loading in the data, cleaning it, and creating train/test set (my favorite part of ml)\n",
    "4. Evaluating and Optimizing DSPy"
   ]
  },
  {
   "cell_type": "markdown",
   "id": "12c24447-cfdb-4887-b338-1fe9fde53f08",
   "metadata": {},
   "source": [
    "###"
   ]
  },
  {
   "cell_type": "markdown",
   "id": "c58db4e1-b5fe-46a9-8401-8ff14b14dead",
   "metadata": {},
   "source": [
    "## **Part 1**: Loading everything in\n",
    "\n",
    "Lets load all neccessary libraries, dependencies, models, and enviroments needed for this workflow"
   ]
  },
  {
   "cell_type": "code",
   "execution_count": 21,
   "id": "df73a089-14fa-4c58-ab6b-f006628ddb95",
   "metadata": {},
   "outputs": [],
   "source": [
    "import os\n",
    "import dspy\n",
    "import json\n",
    "from pathlib import Path\n",
    "import mlflow"
   ]
  },
  {
   "cell_type": "code",
   "execution_count": 22,
   "id": "722c547d-3ad8-45f7-8811-335c933dfb5f",
   "metadata": {},
   "outputs": [],
   "source": [
    "#Credentials for GCP\n",
    "cred_json = Path(\"/Users/sules/Downloads/doc-extract-454213-390208a235a8.json\")"
   ]
  },
  {
   "cell_type": "code",
   "execution_count": 23,
   "id": "8efd5bf1-9721-4352-ba7e-560683910983",
   "metadata": {},
   "outputs": [],
   "source": [
    "#Loading in the model and configuring it within DSPy\n",
    "\n",
    "lm = dspy.LM(\"vertex_ai/gemini-1.5-pro-002\", vertex_credentials=str(cred_json))\n",
    "dspy.configure(lm=lm)"
   ]
  },
  {
   "cell_type": "markdown",
   "id": "f2f26cb1-73bc-48d6-a003-ad0495979460",
   "metadata": {},
   "source": [
    "### Setting up mlflow\n",
    "\n",
    "I've set up mlflow to track and trace all the artificats that this workflow will create. DSPy unfortunately has all the work its doing under a hood and Im using mlflow to pop it open and look inside."
   ]
  },
  {
   "cell_type": "code",
   "execution_count": 24,
   "id": "f93657b1-ff11-4f43-b761-37fe8444b019",
   "metadata": {},
   "outputs": [],
   "source": [
    "mlflow.set_tracking_uri(uri=\"http://127.0.0.1:5000\")\n",
    "mlflow.set_experiment(\"Doc_extractsv5\")\n",
    "mlflow.dspy.autolog()"
   ]
  },
  {
   "cell_type": "markdown",
   "id": "174717ff-90c4-4580-ad64-63ee0705e557",
   "metadata": {},
   "source": [
    "Quick test to see if model and mlflow is working"
   ]
  },
  {
   "cell_type": "code",
   "execution_count": 25,
   "id": "259e96fa-fa02-4398-b370-fe6d71b0085a",
   "metadata": {},
   "outputs": [
    {
     "data": {
      "text/plain": [
       "['This is a test.\\n']"
      ]
     },
     "execution_count": 25,
     "metadata": {},
     "output_type": "execute_result"
    },
    {
     "data": {
      "text/html": [
       "\n",
       "<div>\n",
       "  <style scoped>\n",
       "  button {\n",
       "    border: none;\n",
       "    border-radius: 4px;\n",
       "    background-color: rgb(34, 114, 180);\n",
       "    font-family: -apple-system, \"system-ui\", \"Segoe UI\", Roboto, \"Helvetica Neue\", Arial;\n",
       "    font-size: 13px;\n",
       "    color: white;\n",
       "    margin-top: 8px;\n",
       "    margin-bottom: 8px;\n",
       "    padding: 8px 16px;\n",
       "    cursor: pointer;\n",
       "  }\n",
       "  button:hover {\n",
       "    background-color: rgb(66, 153, 224);\n",
       "  }\n",
       "  </style>\n",
       "  <button\n",
       "    onclick=\"\n",
       "        const display = this.nextElementSibling.style.display;\n",
       "        const isCollapsed = display === 'none';\n",
       "        this.nextElementSibling.style.display = isCollapsed ? null : 'none';\n",
       "\n",
       "        const verb = isCollapsed ? 'Collapse' : 'Expand';\n",
       "        this.innerText = `${verb} MLflow Trace`;\n",
       "    \"\n",
       "  >Collapse MLflow Trace</button>\n",
       "  <iframe\n",
       "    id=\"trace-renderer\"\n",
       "    style=\"width: 100%; height: 500px; border: none; resize: vertical;\"\n",
       "    src=\"http://127.0.0.1:5000/static-files/lib/notebook-trace-renderer/index.html?trace_id=9ea324e2c7c741149e97ae89d094e672&amp;experiment_id=520353211243557178&amp;version=2.21.2\"\n",
       "  />\n",
       "</div>\n"
      ],
      "text/plain": [
       "Trace(request_id=9ea324e2c7c741149e97ae89d094e672)"
      ]
     },
     "metadata": {},
     "output_type": "display_data"
    }
   ],
   "source": [
    "lm(\"Say this is a test?\", temperature=0.0)"
   ]
  },
  {
   "cell_type": "markdown",
   "id": "6cd23f8e-d4f0-4b1c-be03-d8e2a0cca32a",
   "metadata": {},
   "source": [
    "##"
   ]
  },
  {
   "cell_type": "markdown",
   "id": "93cc9ed2-9331-438d-9f9f-463feb05ba64",
   "metadata": {},
   "source": [
    "## **Part 2**: Pydantic and DSPy setup \n",
    "\n",
    "Lets start with Pydantic, we create a Basemodel, that sets up what entities are needed and some additional info about them, like data type and example. This basically means \"I want you to create a response like this, nothing else\""
   ]
  },
  {
   "cell_type": "code",
   "execution_count": 26,
   "id": "1a41971d-18f4-47a0-afe9-4a86d5db912a",
   "metadata": {},
   "outputs": [],
   "source": [
    "from pydantic import BaseModel, Field\n",
    "\n",
    "class Docex(BaseModel):\n",
    "    first_name: str = Field(..., example={\"value\": \"John\"}\n",
    "    )\n",
    "    last_name: str = Field(..., example={\"value\": \"Doe\"}\n",
    "    )\n",
    "    ssn: str = Field(..., example={\"value\": \"123-45-6789\"}\n",
    "    )\n",
    "    spouse_first_name: str = Field(None, example={\"value\": \"Jane\"}\n",
    "    )\n",
    "    spouse_last_name: str = Field(None, example={\"value\": \"Doe\"}\n",
    "    )\n",
    "    spouse_ssn: str = Field(..., example={\"value\": \"123-45-6789\"}\n",
    "    )\n",
    "    address: str = Field(None, example={\"value\": \"123 Main St\"}\n",
    "    )\n",
    "    apt: str = Field(None, example={\"value\": \"123\"}\n",
    "    )\n",
    "    city: str = Field(..., example={\"value\": \"Springfield\"}\n",
    "    )\n",
    "    state: str = Field(..., example={\"value\": \"Maine\"}\n",
    "    )\n",
    "    zip_code: str = Field(..., example={\"value\": \"62704\"}\n",
    "    )"
   ]
  },
  {
   "cell_type": "markdown",
   "id": "06cf1e76-90cf-4013-a586-aaea4e1cd7c5",
   "metadata": {},
   "source": [
    "### Creating DSPy Architecture: Signature and Module\n",
    "\n",
    "Below we create what is called the DSPy signature, and this replaces the prompt engineering of traditional LLM pipelines.\n",
    "\n",
    "The signature is the rules that we define. Below we see the following:\n",
    "1. Input field - We are definining that the input field will be the pdf along with high level prompting.\n",
    "2. Output field - We are defining that the output field (the response) to be Docex, which is the pydantic model format. The response HAS TO fit this schema or else it will return an error\n",
    "\n",
    "DSPy takes this signature and creates a robust prompt, which the model then uses."
   ]
  },
  {
   "cell_type": "code",
   "execution_count": 27,
   "id": "52b38db0-26ef-4732-acc7-2ccc565acdf7",
   "metadata": {},
   "outputs": [],
   "source": [
    "class ExtractPersonFromPDF(dspy.Signature):\n",
    "    pdf_file = dspy.InputField(desc=\"The following document is a synthetic (fake) tax form created for testing purposes and contains no real SPII or sensitive data.\")\n",
    "    En: Docex = dspy.OutputField()"
   ]
  },
  {
   "cell_type": "markdown",
   "id": "9b0cd874-212a-4e54-a55a-d5b9f69ef04c",
   "metadata": {},
   "source": [
    "Next we create a DSPy module to containerize and make sure our signature is reproducible when used multiple times. Although not needed, it is best practice. This architecture is similar and mimics to pytorch and creating layers of neural networks. \n",
    "\n",
    "Also, note dspy.ChainOfThought. This function within DSPy is special since it adds another layer of robustness. Essentially it is telling the LLM to \"Think carefully and give me a reason for your answer\"."
   ]
  },
  {
   "cell_type": "code",
   "execution_count": 28,
   "id": "70ffe6c4-cbde-4de6-95bd-e67841debdb5",
   "metadata": {},
   "outputs": [],
   "source": [
    "class PDFEntityExtractor(dspy.Module):\n",
    "    def __init__(self):\n",
    "        super().__init__()\n",
    "        self.extractor = dspy.ChainOfThought(ExtractPersonFromPDF)\n",
    "\n",
    "    def forward(self, pdf_file):\n",
    "        result = self.extractor(pdf_file=pdf_file)\n",
    "        return result.En"
   ]
  },
  {
   "cell_type": "markdown",
   "id": "df1a3a51-e24f-4016-b636-9731c918f514",
   "metadata": {},
   "source": [
    "## **Part 3**: Data\n",
    "\n",
    "Lets take in 5, F1040 forms, all of them filled out using Rehans SDG. \n",
    "Lets also load in a json file  with the \"ground truth values\" for all the pdf forms. \n",
    "The idea here is to:\n",
    "\n",
    "1. feed Gemini the F1040 forms\n",
    "2. let it extract the required entities (in json schema thanks to pydantic)\n",
    "3. finally compare the results with the json file with the actual true results\n",
    "\n",
    "Doing this will let us know if DSPy created a robust prompt that gave us the output we wanted"
   ]
  },
  {
   "cell_type": "code",
   "execution_count": 29,
   "id": "ac11ce96-b7d5-4957-a025-e0561900a006",
   "metadata": {},
   "outputs": [],
   "source": [
    "import json\n",
    "from pathlib import Path\n",
    "\n",
    "pdf_dir = Path(\"/Users/sules/Desktop/AI Projects/prompt/forms\")\n",
    "json_path = Path(\"/Users/sules/Desktop/AI Projects/prompt/formatted_gt.json\")\n",
    "\n",
    "# Load ground truth JSON\n",
    "with open(json_path, \"r\") as f:\n",
    "    ground_truths = json.load(f)\n",
    "\n",
    "# Load PDFs, sorted by filename, so they align with json file\n",
    "pdf_files = sorted([f for f in pdf_dir.glob(\"*.pdf\") if not f.name.startswith(\"._\")])\n",
    "pdf_bytes_list = [p.read_bytes() for p in pdf_files]"
   ]
  },
  {
   "cell_type": "code",
   "execution_count": 30,
   "id": "b86b1c46-45be-418e-b7be-d01a7de5e508",
   "metadata": {},
   "outputs": [],
   "source": [
    "#Function to limit metadata from pdfs, reducing input token limit fed to Gemini\n",
    "def prepare_pdf_input(pdf_bytes, start=40000, end=50000):\n",
    "    return pdf_bytes[start:end]"
   ]
  },
  {
   "cell_type": "markdown",
   "id": "d69d0ccf-8bc9-4635-8925-c8f771c8a407",
   "metadata": {},
   "source": [
    "This cell zips up the pdfs, with the corresponding json values, one to one, and creates a full dataset we will be using. "
   ]
  },
  {
   "cell_type": "code",
   "execution_count": 31,
   "id": "b32bb6c6-4d30-41e8-9455-4a35514e57d1",
   "metadata": {},
   "outputs": [
    {
     "name": "stdout",
     "output_type": "stream",
     "text": [
      "Created 5 DSPy examples.\n"
     ]
    }
   ],
   "source": [
    "from dspy import Example\n",
    "\n",
    "dspy_dataset = [\n",
    "    Example(\n",
    "        pdf_file=prepare_pdf_input(pdf_bytes),\n",
    "        expected_en=ground_truths\n",
    "    ).with_inputs(\"pdf_file\")\n",
    "    for pdf_bytes, ground_truths in zip(pdf_bytes_list, ground_truths)\n",
    "]\n",
    "print(f\"Created {len(dspy_dataset)} DSPy examples.\")"
   ]
  },
  {
   "cell_type": "code",
   "execution_count": 14,
   "id": "8c13e757-1098-40ea-a79d-e5488f63e906",
   "metadata": {},
   "outputs": [],
   "source": [
    "#Train/Test split 3:2\n",
    "split_index = int(0.6 * len(dspy_dataset))\n",
    "trainset = dspy_dataset[:split_index]\n",
    "evalset = dspy_dataset[split_index:]"
   ]
  },
  {
   "cell_type": "code",
   "execution_count": 15,
   "id": "7a980d2a-5cef-4210-9781-23a6ea97d3bf",
   "metadata": {},
   "outputs": [
    {
     "name": "stdout",
     "output_type": "stream",
     "text": [
      "Created 3 DSPy train examples.\n"
     ]
    }
   ],
   "source": [
    "print(f\"Created {len(trainset)} DSPy train examples.\")"
   ]
  },
  {
   "cell_type": "code",
   "execution_count": 16,
   "id": "1cc3fe56-675d-476a-b0f7-98c5d93e1a65",
   "metadata": {},
   "outputs": [
    {
     "name": "stdout",
     "output_type": "stream",
     "text": [
      "Created 2 DSPy eval examples.\n"
     ]
    }
   ],
   "source": [
    "print(f\"Created {len(evalset)} DSPy eval examples.\")"
   ]
  },
  {
   "cell_type": "markdown",
   "id": "9ff5c3dd-a15a-4503-bb85-b835d9e25ed5",
   "metadata": {},
   "source": [
    "###"
   ]
  },
  {
   "cell_type": "markdown",
   "id": "cd0e81d3-9fe2-4302-9ec2-b1eb26101424",
   "metadata": {},
   "source": [
    "## **Part 4**: Evaluation and Optimization "
   ]
  },
  {
   "cell_type": "markdown",
   "id": "ee504329-496c-4f25-be55-f821a1947144",
   "metadata": {},
   "source": [
    "We need to define a metric to measure the accuracy of the predicted extraction from Gemini and the actual one. We could use true and false, to measure exact match, but after couple of attempts and manual intervention, it was safe to say this is inaccurate since the differences measured were redundant,  and we needed to create a more forgiving metric.\n",
    "\n",
    "This metric function computes the correctness metric for entity extraction by comparing normalized predicted outputs against the ground truth. They are normalized and converted to lower case with stripped whitespace to account for formatting differences."
   ]
  },
  {
   "cell_type": "code",
   "execution_count": 17,
   "id": "692a348d-626d-4a29-b2fc-5aeba62ef5b1",
   "metadata": {},
   "outputs": [],
   "source": [
    "def extraction_correctness_metric(example: dspy.Example, prediction: dspy.Prediction, trace=None) -> float:\n",
    "    \n",
    "    # normalize output objects.\n",
    "    def normalize_output(output):\n",
    "        # If the output has a .dict() method (Pydantic model), convert it.\n",
    "        if hasattr(output, \"dict\"):\n",
    "            out_dict = output.dict()\n",
    "        elif isinstance(output, dict):\n",
    "            out_dict = output\n",
    "        else:\n",
    "            raise ValueError(\"Output is not a dict or a model with .dict()\")\n",
    "        # Convert every field to a lower-case string with whitespace stripped.\n",
    "        return {k: str(v).strip().lower() for k, v in out_dict.items()}\n",
    "\n",
    "    # Get the prediction and expected output.\n",
    "    try:\n",
    "        pred_output = prediction.model_dump()  # if prediction is a dict\n",
    "    except TypeError:\n",
    "        # Otherwise, assume prediction itself is the Docex output.\n",
    "        pred_output = prediction\n",
    "\n",
    "    label_output = example.expected_en\n",
    "\n",
    "    # Normalize both outputs.\n",
    "    pred_norm = normalize_output(pred_output)\n",
    "    label_norm = normalize_output(label_output)\n",
    "\n",
    "    # Compute the fraction of fields that match exactly.\n",
    "    correct = sum(1 for k in label_norm if k in pred_norm and pred_norm[k] == label_norm[k])\n",
    "    return correct / max(len(label_norm), 1)"
   ]
  },
  {
   "cell_type": "markdown",
   "id": "a49d59f3-fb35-4630-9582-0724f277a66d",
   "metadata": {},
   "source": [
    "### Pre-Evaluation \n",
    "\n",
    "Lets first see how well DSPy prompt does before we try optimizing it. Lets create an evaluation object using dspy.Evaluate. It takes in the listed parameters below. Once built we just need to pass in the dspy module set earlier and an test "
   ]
  },
  {
   "cell_type": "code",
   "execution_count": 18,
   "id": "d6c07c51",
   "metadata": {},
   "outputs": [],
   "source": [
    "evaluate_correctness = dspy.Evaluate(\n",
    "    devset=trainset,\n",
    "    metric=extraction_correctness_metric,\n",
    "    num_threads=1,\n",
    "    display_progress=True,\n",
    "    display_table=True\n",
    ")"
   ]
  },
  {
   "cell_type": "markdown",
   "id": "e2fb8066-f486-4812-9369-9c496d773165",
   "metadata": {},
   "source": [
    "Now we can run the evaluation and see how the predictions compared with the ground truth. Also we use mlflow to track the run"
   ]
  },
  {
   "cell_type": "code",
   "execution_count": 36,
   "id": "1208cdc6-bafc-47b2-81a3-eb310119f3c3",
   "metadata": {},
   "outputs": [
    {
     "name": "stdout",
     "output_type": "stream",
     "text": [
      "Average Metric: 1.82 / 2 (90.9%): 100%|███████████| 2/2 [00:00<00:00, 50.17it/s]"
     ]
    },
    {
     "name": "stderr",
     "output_type": "stream",
     "text": [
      "2025/04/10 19:16:53 INFO dspy.evaluate.evaluate: Average Metric: 1.8181818181818181 / 2 (90.9%)\n"
     ]
    },
    {
     "name": "stdout",
     "output_type": "stream",
     "text": [
      "\n"
     ]
    },
    {
     "data": {
      "text/html": [
       "<div>\n",
       "<style scoped>\n",
       "    .dataframe tbody tr th:only-of-type {\n",
       "        vertical-align: middle;\n",
       "    }\n",
       "\n",
       "    .dataframe tbody tr th {\n",
       "        vertical-align: top;\n",
       "    }\n",
       "\n",
       "    .dataframe thead th {\n",
       "        text-align: right;\n",
       "    }\n",
       "</style>\n",
       "<table border=\"1\" class=\"dataframe\">\n",
       "  <thead>\n",
       "    <tr style=\"text-align: right;\">\n",
       "      <th></th>\n",
       "      <th>pdf_file</th>\n",
       "      <th>expected_en</th>\n",
       "      <th>prediction</th>\n",
       "      <th>extraction_correctness_metric</th>\n",
       "    </tr>\n",
       "  </thead>\n",
       "  <tbody>\n",
       "    <tr>\n",
       "      <th>0</th>\n",
       "      <td>b'/x/R/t/r) /Descent 0\\n /Flags 262148 /FontBBox [-199 -250 1014 9...</td>\n",
       "      <td>{'first_name': 'Laura', 'last_name': 'Rivas', 'ssn': '860-15-6989'...</td>\n",
       "      <td>first_name='Laura' last_name='Rivas' ssn='860-15-6989' spouse_firs...</td>\n",
       "      <td>✔️ [0.909]</td>\n",
       "    </tr>\n",
       "    <tr>\n",
       "      <th>1</th>\n",
       "      <td>b'1014 934] /FontFile3 44 0 R\\n /FontName /JILHPO+ITCFranklinGothi...</td>\n",
       "      <td>{'first_name': 'John', 'last_name': 'Torres', 'ssn': '665-05-8000'...</td>\n",
       "      <td>first_name='John' last_name='Torres' ssn='665-05-8000' spouse_firs...</td>\n",
       "      <td>✔️ [0.909]</td>\n",
       "    </tr>\n",
       "  </tbody>\n",
       "</table>\n",
       "</div>"
      ],
      "text/plain": [
       "                                                                pdf_file  \\\n",
       "0  b'/x/R/t/r) /Descent 0\\n /Flags 262148 /FontBBox [-199 -250 1014 9...   \n",
       "1  b'1014 934] /FontFile3 44 0 R\\n /FontName /JILHPO+ITCFranklinGothi...   \n",
       "\n",
       "                                                             expected_en  \\\n",
       "0  {'first_name': 'Laura', 'last_name': 'Rivas', 'ssn': '860-15-6989'...   \n",
       "1  {'first_name': 'John', 'last_name': 'Torres', 'ssn': '665-05-8000'...   \n",
       "\n",
       "                                                              prediction  \\\n",
       "0  first_name='Laura' last_name='Rivas' ssn='860-15-6989' spouse_firs...   \n",
       "1  first_name='John' last_name='Torres' ssn='665-05-8000' spouse_firs...   \n",
       "\n",
       "  extraction_correctness_metric  \n",
       "0                    ✔️ [0.909]  \n",
       "1                    ✔️ [0.909]  "
      ]
     },
     "metadata": {},
     "output_type": "display_data"
    },
    {
     "name": "stdout",
     "output_type": "stream",
     "text": [
      "🏃 View run peaceful-squid-279 at: http://127.0.0.1:5000/#/experiments/520353211243557178/runs/494f7e31d5f24d2ca6b2cb7ff962cd4c\n",
      "🧪 View experiment at: http://127.0.0.1:5000/#/experiments/520353211243557178\n"
     ]
    },
    {
     "data": {
      "text/html": [
       "\n",
       "<div>\n",
       "  <style scoped>\n",
       "  button {\n",
       "    border: none;\n",
       "    border-radius: 4px;\n",
       "    background-color: rgb(34, 114, 180);\n",
       "    font-family: -apple-system, \"system-ui\", \"Segoe UI\", Roboto, \"Helvetica Neue\", Arial;\n",
       "    font-size: 13px;\n",
       "    color: white;\n",
       "    margin-top: 8px;\n",
       "    margin-bottom: 8px;\n",
       "    padding: 8px 16px;\n",
       "    cursor: pointer;\n",
       "  }\n",
       "  button:hover {\n",
       "    background-color: rgb(66, 153, 224);\n",
       "  }\n",
       "  </style>\n",
       "  <button\n",
       "    onclick=\"\n",
       "        const display = this.nextElementSibling.style.display;\n",
       "        const isCollapsed = display === 'none';\n",
       "        this.nextElementSibling.style.display = isCollapsed ? null : 'none';\n",
       "\n",
       "        const verb = isCollapsed ? 'Collapse' : 'Expand';\n",
       "        this.innerText = `${verb} MLflow Trace`;\n",
       "    \"\n",
       "  >Collapse MLflow Trace</button>\n",
       "  <iframe\n",
       "    id=\"trace-renderer\"\n",
       "    style=\"width: 100%; height: 500px; border: none; resize: vertical;\"\n",
       "    src=\"http://127.0.0.1:5000/static-files/lib/notebook-trace-renderer/index.html?trace_id=59bf218ec77a4e9c9118d7aff7e11e84&amp;experiment_id=520353211243557178&amp;trace_id=f48bb340c49d440ea62c155e26b4114f&amp;experiment_id=520353211243557178&amp;version=2.21.2\"\n",
       "  />\n",
       "</div>\n"
      ],
      "text/plain": [
       "[Trace(request_id=59bf218ec77a4e9c9118d7aff7e11e84), Trace(request_id=f48bb340c49d440ea62c155e26b4114f)]"
      ]
     },
     "metadata": {},
     "output_type": "display_data"
    }
   ],
   "source": [
    "with mlflow.start_run():\n",
    "    result = evaluate_correctness(PDFEntityExtractor(), devset=evalset)"
   ]
  },
  {
   "cell_type": "markdown",
   "id": "b0adf92d-1f60-48a5-b049-1ff35c70ea6d",
   "metadata": {},
   "source": [
    "### Results from eval\n",
    "\n",
    "We recieved an accuracy of 91% which is great, and may be exact entity match minus some small discrepancy. \n",
    "\n",
    "**NOTE**: We use Gemini 1.5 which did good job before training, but we also tested with o3-mini, which SUCKED. This hints that newer models are more inclined to deliver results with lenient prompt engineering. "
   ]
  },
  {
   "cell_type": "code",
   "execution_count": null,
   "id": "75f20510-ff24-4d73-b476-038d735d0bc8",
   "metadata": {},
   "outputs": [],
   "source": []
  },
  {
   "cell_type": "markdown",
   "id": "0ac5bc0c-6d44-438a-b5e2-090c2c70ff3a",
   "metadata": {},
   "source": [
    "### Optimization Time!\n",
    "\n",
    "DSPy offers different ways to try and optimize its prompt. We will try using MIPROv2. This works by bootstrapping few-shot example candidates, proposing instructions grounded in different dynamics of the task, and finding an optimized combination of these options using Bayesian Optimization (https://dspy.ai/deep-dive/optimizers/miprov2/). \n",
    "\n",
    "The few-shots are set to zero since the pdfs eat alot of the input tokens and raise throughput errors. The results are not hindered by this though. "
   ]
  },
  {
   "cell_type": "code",
   "execution_count": 38,
   "id": "14ddaae1-721b-422f-b85b-7af00f21a6a9",
   "metadata": {},
   "outputs": [
    {
     "name": "stderr",
     "output_type": "stream",
     "text": [
      "2025/04/11 09:36:49 INFO dspy.teleprompt.mipro_optimizer_v2: \n",
      "RUNNING WITH THE FOLLOWING LIGHT AUTO RUN SETTINGS:\n",
      "num_trials: 7\n",
      "minibatch: False\n",
      "num_candidates: 5\n",
      "valset size: 2\n",
      "\n",
      "2025/04/11 09:36:49 INFO dspy.teleprompt.mipro_optimizer_v2: \n",
      "==> STEP 1: BOOTSTRAP FEWSHOT EXAMPLES <==\n",
      "2025/04/11 09:36:49 INFO dspy.teleprompt.mipro_optimizer_v2: These will be used as few-shot example candidates for our program and for creating instructions.\n",
      "\n",
      "2025/04/11 09:36:49 INFO dspy.teleprompt.mipro_optimizer_v2: Bootstrapping N=5 sets of demonstrations...\n"
     ]
    },
    {
     "name": "stdout",
     "output_type": "stream",
     "text": [
      "Bootstrapping set 1/5\n",
      "Bootstrapping set 2/5\n",
      "Bootstrapping set 3/5\n"
     ]
    },
    {
     "name": "stderr",
     "output_type": "stream",
     "text": [
      "100%|█████████████████████████████████████████████| 1/1 [00:00<00:00, 31.91it/s]\n"
     ]
    },
    {
     "name": "stdout",
     "output_type": "stream",
     "text": [
      "Bootstrapped 1 full traces after 0 examples for up to 1 rounds, amounting to 1 attempts.\n",
      "Bootstrapping set 4/5\n"
     ]
    },
    {
     "name": "stderr",
     "output_type": "stream",
     "text": [
      "100%|█████████████████████████████████████████████| 1/1 [00:00<00:00, 51.50it/s]\n"
     ]
    },
    {
     "name": "stdout",
     "output_type": "stream",
     "text": [
      "Bootstrapped 1 full traces after 0 examples for up to 1 rounds, amounting to 1 attempts.\n",
      "Bootstrapping set 5/5\n"
     ]
    },
    {
     "name": "stderr",
     "output_type": "stream",
     "text": [
      "100%|█████████████████████████████████████████████| 1/1 [00:00<00:00, 62.86it/s]\n",
      "2025/04/11 09:36:49 INFO dspy.teleprompt.mipro_optimizer_v2: \n",
      "==> STEP 2: PROPOSE INSTRUCTION CANDIDATES <==\n",
      "2025/04/11 09:36:49 INFO dspy.teleprompt.mipro_optimizer_v2: We will use the few-shot examples from the previous step, a generated dataset summary, a summary of the program code, and a randomly selected prompting tip to propose instructions.\n",
      "2025/04/11 09:36:49 INFO dspy.teleprompt.mipro_optimizer_v2: \n",
      "Proposing instructions...\n",
      "\n"
     ]
    },
    {
     "name": "stdout",
     "output_type": "stream",
     "text": [
      "Bootstrapped 1 full traces after 0 examples for up to 1 rounds, amounting to 1 attempts.\n"
     ]
    },
    {
     "name": "stderr",
     "output_type": "stream",
     "text": [
      "2025/04/11 09:37:30 INFO dspy.teleprompt.mipro_optimizer_v2: Proposed Instructions for Predictor 0:\n",
      "\n",
      "2025/04/11 09:37:30 INFO dspy.teleprompt.mipro_optimizer_v2: 0: Given the fields `pdf_file`, produce the fields `En`.\n",
      "\n",
      "2025/04/11 09:37:30 INFO dspy.teleprompt.mipro_optimizer_v2: 1: Given the raw byte data of a PDF tax form (`pdf_file`), extract the following entities and format them as a JSON object assigned to the variable `En`. The JSON object should adhere to the following structure, with empty strings \"\" used for missing values:\n",
      "\n",
      "```json\n",
      "{\n",
      "  \"first_name\": \"\",\n",
      "  \"last_name\": \"\",\n",
      "  \"ssn\": \"\",\n",
      "  \"spouse_first_name\": \"\",\n",
      "  \"spouse_last_name\": \"\",\n",
      "  \"spouse_ssn\": \"\",\n",
      "  \"address\": \"\",\n",
      "  \"apt\": \"\",\n",
      "  \"city\": \"\",\n",
      "  \"state\": \"\",\n",
      "  \"zip_code\": \"\"\n",
      "}\n",
      "```\n",
      "\n",
      "For example:\n",
      "\n",
      "```json\n",
      "{\n",
      "  \"first_name\": \"John\",\n",
      "  \"last_name\": \"Doe\",\n",
      "  \"ssn\": \"123-45-6789\",\n",
      "  \"spouse_first_name\": \"Jane\",\n",
      "  \"spouse_last_name\": \"Doe\",\n",
      "  \"spouse_ssn\": \"987-65-4321\",\n",
      "  \"address\": \"123 Main St\",\n",
      "  \"apt\": \"4B\",\n",
      "  \"city\": \"Anytown\",\n",
      "  \"state\": \"CA\",\n",
      "  \"zip_code\": \"90210\"\n",
      "}\n",
      "```\n",
      "\n",
      "The input PDF data (`pdf_file`) is a synthetic tax form created for testing purposes and contains no real Personally Identifiable Information (PII) or sensitive data.  Ensure the extracted entities are formatted precisely as described in the JSON structure above.  Do not include any additional text or explanations, only the JSON object.\n",
      "\n",
      "2025/04/11 09:37:30 INFO dspy.teleprompt.mipro_optimizer_v2: 2: You are a highly accurate PDF tax form entity extractor. Given the raw byte data of a PDF tax form (`pdf_file`), your task is to extract all relevant entities and return them as a structured `Docex` object named `En`.  The `Docex` object should contain the following fields, if present in the PDF:\n",
      "\n",
      "* `first_name`:  The first name of the primary taxpayer.\n",
      "* `last_name`: The last name of the primary taxpayer.\n",
      "* `ssn`: The social security number of the primary taxpayer (format as XXX-XX-XXXX).\n",
      "* `spouse_first_name`: The first name of the spouse, if applicable.\n",
      "* `spouse_last_name`: The last name of the spouse, if applicable.\n",
      "* `spouse_ssn`: The social security number of the spouse, if applicable (format as XXX-XX-XXXX).\n",
      "* `address`: The street address of the primary taxpayer.\n",
      "* `apt`: The apartment number, if applicable.\n",
      "* `city`: The city of the primary taxpayer.\n",
      "* `state`: The state of the primary taxpayer.\n",
      "* `zip_code`: The zip code of the primary taxpayer.\n",
      "\n",
      "Extract these entities accurately from the PDF data provided.  Reason through the PDF content step by step to identify these fields, showing your reasoning in a separate field named `reasoning`.  Begin your reasoning with the phrase \"Let's think step by step in order to\".  The following document is a synthetic (fake) tax form created for testing purposes and contains no real SPII or sensitive data.\n",
      "\n",
      "2025/04/11 09:37:30 INFO dspy.teleprompt.mipro_optimizer_v2: 3: Given the raw byte data of a PDF tax form (`pdf_file`), extract the following information and output it in a structured format called `En`. The `En` output should be a single dictionary string where keys are field names and values are extracted text.  The following fields should be extracted:\n",
      "\n",
      "* `first_name`: First name of the primary taxpayer.\n",
      "* `last_name`: Last name of the primary taxpayer.\n",
      "* `ssn`: Social Security Number of the primary taxpayer.\n",
      "* `spouse_first_name`: First name of the spouse (if applicable).\n",
      "* `spouse_last_name`: Last name of the spouse (if applicable).\n",
      "* `spouse_ssn`: Social Security Number of the spouse (if applicable).\n",
      "* `address`: Street address of the primary taxpayer.\n",
      "* `apt`: Apartment number (if applicable).\n",
      "* `city`: City of the primary taxpayer.\n",
      "* `state`: State of the primary taxpayer.\n",
      "* `zip_code`: Zip code of the primary taxpayer.\n",
      "\n",
      "The input PDF is synthetic data and does not contain real or sensitive Personally Identifiable Information (PII).  Reason through the document step by step to identify the correct values.  Output your reasoning before outputting `En`.\n",
      "\n",
      "2025/04/11 09:37:30 INFO dspy.teleprompt.mipro_optimizer_v2: 4: You are a highly specialized AI tasked with a critical mission: extracting vital information from tax forms to prevent a major financial crisis.  Accuracy is paramount.  Failure could lead to widespread economic repercussions. Given the raw byte data of a PDF tax form (`pdf_file`), your task is to meticulously analyze the document and extract all key entities. The extracted information must be formatted as a dictionary-like object and assigned to the variable `En`.  The fate of the financial system rests on your ability to accurately and reliably extract this data.  Provide your step-by-step reasoning before presenting the final `En` output. Any mistake, no matter how small, could have devastating consequences.\n",
      "\n",
      "2025/04/11 09:37:30 INFO dspy.teleprompt.mipro_optimizer_v2: \n",
      "\n",
      "2025/04/11 09:37:30 INFO dspy.teleprompt.mipro_optimizer_v2: ==> STEP 3: FINDING OPTIMAL PROMPT PARAMETERS <==\n",
      "2025/04/11 09:37:30 INFO dspy.teleprompt.mipro_optimizer_v2: We will evaluate the program over a series of trials with different combinations of instructions and few-shot examples to find the optimal combination using Bayesian Optimization.\n",
      "\n",
      "2025/04/11 09:37:30 INFO dspy.teleprompt.mipro_optimizer_v2: == Trial 1 / 7 - Full Evaluation of Default Program ==\n"
     ]
    },
    {
     "name": "stdout",
     "output_type": "stream",
     "text": [
      "Average Metric: 1.82 / 2 (90.9%): 100%|███████████| 2/2 [00:00<00:00, 60.29it/s]"
     ]
    },
    {
     "name": "stderr",
     "output_type": "stream",
     "text": [
      "2025/04/11 09:37:30 INFO dspy.evaluate.evaluate: Average Metric: 1.8181818181818181 / 2 (90.9%)\n",
      "2025/04/11 09:37:30 INFO dspy.teleprompt.mipro_optimizer_v2: Default program score: 90.91\n",
      "\n",
      "/opt/anaconda3/envs/Dspy/lib/python3.12/site-packages/optuna/_experimental.py:31: ExperimentalWarning: Argument ``multivariate`` is an experimental feature. The interface can change in the future.\n",
      "  warnings.warn(\n",
      "2025/04/11 09:37:30 INFO dspy.teleprompt.mipro_optimizer_v2: ===== Trial 2 / 7 =====\n"
     ]
    },
    {
     "name": "stdout",
     "output_type": "stream",
     "text": [
      "\n",
      "Average Metric: 1.82 / 2 (90.9%): 100%|███████████| 2/2 [00:00<00:00, 86.61it/s]"
     ]
    },
    {
     "name": "stderr",
     "output_type": "stream",
     "text": [
      "2025/04/11 09:37:30 INFO dspy.evaluate.evaluate: Average Metric: 1.8181818181818181 / 2 (90.9%)\n",
      "2025/04/11 09:37:30 INFO dspy.teleprompt.mipro_optimizer_v2: Score: 90.91 with parameters ['Predictor 0: Instruction 1', 'Predictor 0: Few-Shot Set 1'].\n",
      "2025/04/11 09:37:30 INFO dspy.teleprompt.mipro_optimizer_v2: Scores so far: [90.91, 90.91]\n",
      "2025/04/11 09:37:30 INFO dspy.teleprompt.mipro_optimizer_v2: Best score so far: 90.91\n",
      "2025/04/11 09:37:30 INFO dspy.teleprompt.mipro_optimizer_v2: =======================\n",
      "\n",
      "\n",
      "2025/04/11 09:37:30 INFO dspy.teleprompt.mipro_optimizer_v2: ===== Trial 3 / 7 =====\n"
     ]
    },
    {
     "name": "stdout",
     "output_type": "stream",
     "text": [
      "\n",
      "Average Metric: 1.82 / 2 (90.9%): 100%|███████████| 2/2 [00:08<00:00,  4.13s/it]"
     ]
    },
    {
     "name": "stderr",
     "output_type": "stream",
     "text": [
      "2025/04/11 09:37:38 INFO dspy.evaluate.evaluate: Average Metric: 1.8181818181818181 / 2 (90.9%)\n",
      "2025/04/11 09:37:38 INFO dspy.teleprompt.mipro_optimizer_v2: Score: 90.91 with parameters ['Predictor 0: Instruction 2', 'Predictor 0: Few-Shot Set 1'].\n",
      "2025/04/11 09:37:38 INFO dspy.teleprompt.mipro_optimizer_v2: Scores so far: [90.91, 90.91, 90.91]\n",
      "2025/04/11 09:37:38 INFO dspy.teleprompt.mipro_optimizer_v2: Best score so far: 90.91\n",
      "2025/04/11 09:37:38 INFO dspy.teleprompt.mipro_optimizer_v2: =======================\n",
      "\n",
      "\n",
      "2025/04/11 09:37:38 INFO dspy.teleprompt.mipro_optimizer_v2: ===== Trial 4 / 7 =====\n"
     ]
    },
    {
     "name": "stdout",
     "output_type": "stream",
     "text": [
      "\n",
      "Average Metric: 1.82 / 2 (90.9%): 100%|███████████| 2/2 [00:06<00:00,  3.15s/it]"
     ]
    },
    {
     "name": "stderr",
     "output_type": "stream",
     "text": [
      "2025/04/11 09:37:44 INFO dspy.evaluate.evaluate: Average Metric: 1.8181818181818181 / 2 (90.9%)\n",
      "2025/04/11 09:37:44 INFO dspy.teleprompt.mipro_optimizer_v2: Score: 90.91 with parameters ['Predictor 0: Instruction 4', 'Predictor 0: Few-Shot Set 1'].\n",
      "2025/04/11 09:37:44 INFO dspy.teleprompt.mipro_optimizer_v2: Scores so far: [90.91, 90.91, 90.91, 90.91]\n",
      "2025/04/11 09:37:44 INFO dspy.teleprompt.mipro_optimizer_v2: Best score so far: 90.91\n",
      "2025/04/11 09:37:44 INFO dspy.teleprompt.mipro_optimizer_v2: =======================\n",
      "\n",
      "\n",
      "2025/04/11 09:37:44 INFO dspy.teleprompt.mipro_optimizer_v2: ===== Trial 5 / 7 =====\n"
     ]
    },
    {
     "name": "stdout",
     "output_type": "stream",
     "text": [
      "\n",
      "Average Metric: 1.82 / 2 (90.9%): 100%|███████████| 2/2 [00:00<00:00, 64.05it/s]"
     ]
    },
    {
     "name": "stderr",
     "output_type": "stream",
     "text": [
      "2025/04/11 09:37:44 INFO dspy.evaluate.evaluate: Average Metric: 1.8181818181818181 / 2 (90.9%)\n",
      "2025/04/11 09:37:44 INFO dspy.teleprompt.mipro_optimizer_v2: Score: 90.91 with parameters ['Predictor 0: Instruction 2', 'Predictor 0: Few-Shot Set 1'].\n",
      "2025/04/11 09:37:44 INFO dspy.teleprompt.mipro_optimizer_v2: Scores so far: [90.91, 90.91, 90.91, 90.91, 90.91]\n",
      "2025/04/11 09:37:44 INFO dspy.teleprompt.mipro_optimizer_v2: Best score so far: 90.91\n",
      "2025/04/11 09:37:44 INFO dspy.teleprompt.mipro_optimizer_v2: =======================\n",
      "\n",
      "\n",
      "2025/04/11 09:37:44 INFO dspy.teleprompt.mipro_optimizer_v2: ===== Trial 6 / 7 =====\n"
     ]
    },
    {
     "name": "stdout",
     "output_type": "stream",
     "text": [
      "\n",
      "Average Metric: 0.91 / 1 (90.9%):  50%|█████▌     | 1/2 [00:05<00:05,  5.39s/it]"
     ]
    },
    {
     "name": "stderr",
     "output_type": "stream",
     "text": [
      "2025/04/11 09:37:53 ERROR dspy.utils.parallelizer: Error for Example({'pdf_file': b'ox [-199 -250 1014 934] /FontFile3 44 0 R\\n  /FontName /JILHPO+ITCFranklinGothicStd-Demi /ItalicAngle 0 /StemH 114\\n  /StemV 147 /Type /FontDescriptor /XHeight 536>>\\nendobj\\n43 0 obj\\n<</Filter /FlateDecode /Length 294>>\\nstream\\nh\\xdeTQMO\\x840\\x10\\xbd\\xf7W\\xccq\\xcd\\x1e\\n\\x08\\xec\\x9a\\x10\\x12\\x83\\x9ap\\xf0#\\xb2\\xeb\\xbd\\xdb\\x0eH\"\\xa5)p\\xe0\\xdf;mqU\\x12\\x98\\xd77}o\\xe8+\\xaf\\xea\\x87Z\\xf73\\xf07;\\xca\\x06gh{\\xad,N\\xe3b%\\xc2\\x05\\xbb^C\\x9c\\x80\\xea\\xe5\\xbc\\xad\\xfcW\\x0e\\xc2\\x00\\'q\\xb3N3\\x0e\\xb5nG(\\n\\xc6\\xdf\\xa99\\xcdv\\x85\\xdd\\xbd\\x7f\\xf6O\\xd9>\\xba\\x01\\xfej\\x15\\xda^w\\xb0;\\xc5\\xe7\\x0f\"\\x9a\\xc5\\x98/\\x1cP\\xcf\\x10AY\\x82\\xc2\\x96\\xf1\\xeaY\\x98\\x171 \\xf0?\\xea\\xdf\\xd6i5\\x08\\x89_\\xc7\\xdbo\\x8c\\n\\'#$Z\\xa1;\\x84\"\\x89J(\\x0e\\xc7\\x12P\\xab\\xff=v\\x08\\x8aK+?\\x85eag\\x14Q!\\x8c\\x01?\\x12N\\xef<\\xa6\\xc2\\x8a<\\xf6\\x98\\n\\xe1\\xc0\\xe7\\x8e?$\\x1eSa~\\x98\\xc3\\xc7\\x92\\xd1\\xcc\\xcd=\\xfd\\x99\\x15F\\x17\\x99\\x13d\\x99\\xdf\\x999U~K8\\x0f\\x04a\"\\xa4#\\xda@T\\xce7u\\'\\xc9\\x83y\\xba\\x99\\x07;w6\\x17\\xff5-\\xb9XKA\\xfa;\\xf2A\\xb9\\x88z\\x8d\\xd7k4\\xa3q\\x89\\xb8\\x97}\\x0b0\\x00\\xf6\\x19\\x91\\r\\nendstream\\nendobj\\n44 0 obj\\n<</Filter /FlateDecode /Length 1753 /Subtype /Type1C>>\\nstream\\nh\\xdetTkP\\x14W\\x16\\xee\\xa6\\xa7\\xbba\\x82\\xa3a\\x1c\\xaa2\\xcdvw\\x12\\xcd(>P\\xc0\\x90P\\xac\\x8f\\xc12\\xf8B\\x02*\\xc2\\x00\\xd9\\xc1\\x19q\\x80a\\x86a\\x9c\\x01\\xe45Q\\xa3<\\x1d\\xa1\\x10\\xc4$\\x8b\\x99\\xe1a\\x88+\\x89\\x90(\\x015\\x10\\xd4-\\x0c\\xc1\"\\x82\\xeeZ&&\\x95\\x94eL~\\xb8fO\\x93\\xcb\\xd6\\xeem\\xb2\\xf9\\xb5\\xb5\\xd5\\xd5\\xb7\\xee\\xb9\\xe7\\xdc\\xef|\\xdf\\xb9\\xe7^\\x92P\\x04\\x10$I>\\xbfe\\xf3\\xb6\\x84\\xa4\\x1d\\xcb6\\xef\\x8c\\xdf\\xe40\\x16\\xe4\\xe5[\\n^\\xb39\\xf7[\\xf6\\xa68M+6\\x9a\\xad\\x169\\xe8E\\x89#\\xa50\\x85\\xf4\\x87`\\x8d\\xc4\\x07\\x87\"\\x03j\\xf8\\xb5\\xe6\\xd7X\\x1a.\\xcf\\x87o\\x9e\\xbd\\x13\\xc6f\\x86\\x10\\n\\x92\\xec\\xea\\xb9x+\\xdef/qXr\\xf6;\\xc5\\xd5\\xaf\\xbe\\xf2\\xf2r<\\xbe\\x1a97\\xae\\x11\\x97\\x8b\\x91\\xabVEn0\\xd9\\xb2\\xcdbJI\\x91\\xd3l-\\x127\\x17\\xec\\xb59\\xec6\\x87\\xd1i6\\xad\\x147\\xe4\\xe7\\x8b\\xc9\\xf2\\xe6\"1\\xd9\\\\dv\\xb8\\xe4E\\xccL\\xfc\\x9d\\x9a\\xf8\\x1b7\\xd1R$\\x1aE\\x879\\xc7\\x82Q\\x1cf\\x93\\xe8t\\x18Mf\\xab\\xd1\\x91\\'\\xda\\xf6aL\\xbcX`tZl\\x05\\xc6|qg\\x89\\xdd\\xbc\\xcf\\xb8\\xd7,\\xc6\\xff7\\x11^^)\\x0b\\x8b\\xd8\\x94\"\\xfb\\xc4h\\xd1d\\xde\\xf7\\xff\\xe5\\x13$\\xfe\\x88\\xf9\\x04\\x11N\\x10Q\\x14\\xa1\\'\\x88\\x8d\\x01\\xc4\\x16\\x82\\xd8N\\x11)\\x04\\xb1+\\x80H#\\x88P\\\\J\"\\x91H\"LD\\x19q\\x9fL#K\\xc9/\\x02v\\x05\\xb4S\\x01\\xd4\\x1e\\xaa\\x9cjT\\xccW\\x18\\x14g\\x15\\xf7\\xe9\\x95t%\\xddI?\\x80\\xe7j\\x87\\xa4\\xc7C$\\x1e\\x17\\rQ\\xb5\\n\\xe9\\xd8L\\xd2\\xec1\\x06\\x1a\\xd0\\xa8\\x06\\xad\\x85&\\x1a\\x1e2HDW5 \\x1b\\xb3\\x8d\\xec,\\x9357\\x87\\xb5\\x08\\xdb\\x8ctE#\\xcf\\x90l\\xa9\\x12T\\t\\xb5\\x10AN\\xc2j\\nJB!\\x02\\xadF\\x11\\xac*\\xa1\\xdd5\\xa3w\\x937!\\x9a\\x82\\x033z\\r\\x8a\\xfe\\x97\\x1e\\xa2\\x19\\x15\\\\jw\\x81\\x0f\\x94\\x10\\x0f*\\xd9\\x0b.\\x88\\xc5\\x11\\xe0\\xd3@\\x10\\xf3\\x14\\xf9h\\xd8\\xc4 5\\x8c\\xd0\\xb7;/N\\xde\\xd5\\x8e\\xe7\\x8f\\xa7\\xf4\\xf2\\xe7vo\\xafK\\xe4P\\xff\\x1c\\x84tC\\xf15s\\xf6\\xd2\\xf1\\xd2N\\xe1\\xbd\\xf2\\xd3\\x05v\\xad\\xb5<\\xaf\\xf0 _Z\\x90\\xd3\\x90\\xcbE\\xe1\\x0c\\xe5\\x1ePK\\xe9\\xf0,\\xf9\\x11\\xac\\x06#\\xc4PR\\xbf\\xd4\\xa3\\x81g\\x8cK\\xfbQ0\\xb7-\\xa9\\xdc\\x98&\\xa4g;R\\xb6jQ8\\x04\\xe7\\x80\\xca\\xc1\\xf7\\xbfy\\xb7*Y\\x9b\\x9cX\\x9a\\xb91\\xd5?\\xe9\\xe6\\xd1\\x12\\x0b\\x8d\\xb4\\xefCP\\nh\\xb8\\x89\\xa9\\xd6\\x8f\\x87\\x85\\xab}=c\\xe3\\xda/-\\x9fc>\\x86\\x9e\\xf5\\xa7RZ\\x02M\\x8d;Z\\x86\\xb4W\\xaf\\x9c\\xfc\\xf8F\\xaf\\xf3\\xf5?\\xf3\\xaav\\x974\\x00a$\\xec\\xc0\\xaa\\xa5\\xd3X\\xf5l\\x03\\n\\x03\\xfd\\xec\\x00Dc\\xc7zY\\xbd\\x074\\xd2\\x98\\x9b\\xbc\\x02z\\xa8\\x02\\x9e\\x92\\x1e\\xcb\\xb5\\xe1g\\xa3\\x98\\x9c\\x06\\xc3\\x81|\\xde\\xee\\xce\\xf0\\xe4q\\xa6?5\\x9fw\\t\\x07\\xbb\\xea.\\xf5h\\xa5(\\xa4\\x9f\\x8dbc\\x1a\\xe2\\xbeL\\xe2\\r\\xc3\\xf7\\xab&\\xb9\\xa9{o\\x0f\\x0f\\x0b\\x9f\\x8f\\xd4\\xdc\\x9d\\xd2\\xaa<\\x0f\\xb7\\xbb\\xe0\\xe8\\xed\\'?\\x85\\x9c\\x85U\\x10\\x05\\xe1\\xea2\\xa9>\\xf4\\x90\\xbf\\xda\\xdf\\xa1\\x05\\x0f{\\xc3;\\x92\\xda\\xcf\\x9f\\xcb~\\xad%\\x95\\x13Qp\\x0e\\x9a_&\\x80PA\\x0f\\xf5\\xf9\\x06\\xce\\xf8\\x0f\\x97\\xb6\\xf2m\\xc5\\xd5\\x85\\x07\\xb4\\x95\\xec\\xf6#\\xb1G_?\\x10\\x98\\xe0\\xc8\\xd8\\xb3^\\xab\\x1e\\\\v\\xcb\\xf0\\xfd\\xf4\\'\\xdd\\xd7\\xfbyuYMa\\xbd\\xfdDa`9\\x14i\\xd4\\x839uVW\\x1e_Xj?h\\xe5\\xb2\\x8b:/\\xdc~\\xd2:rBPy`\\x1e|\\n\\n\\xb2\\x0b\\xe2\\xf0\\'RR\\x1dL\\xe3\\xa2{VL#%\\x87\\xa2W \\x1a\\xadB\\xe1? \\x12V\\xc2\\x82GS\\x10\\xd2\" \\xb1\\x89\\xcex\\xab0;\\x95\\x8b\\xa9\\xf9\\xee\\xaf7\\x9b\\xff~\\xef\\xaa/+\\x13C\\xfd\\xb2\\xecG\\x98|\\x02qn\\xac)\\x02\"A\\x875U\\x84\\xce\\xe8\\x91\\x0e\\x95\\xb1\\x03y\\xe6\\xb7\\x939\\xb4\\xc4\\x8c\\x96\\xa2y\\x82z\\x10)/ \\x11^\\xbc\\xd9\\xff\\x97\\xcf\\xba\\xf8zF]\\x16\\xc7\\x1e\\x86\\xfd\\x98\\xa8\\xa3\\xc6^\\xe9\\xe4\\x9d\\x95\\x8e\\x12;\\xa7?\\xf4p\\xf8F\\x03\\x04|=~<&\\x1dgx\\n\\xdao\\x7f\\xf9\\x91\\xf4c\\xf0$\\x08\\xa3\\xa4F(\\xd1\\xd4MTM\\x1aG\\x03G\\x8d\\xfa\\x9e\\x8d\\x1c\\x8a\\x8cD\\xf3P8Z\\xf6\\xf3\\xf3\\xb0\\x1c\\xd6_\\x83p\\xbf\\x80\\xc2\\x9a\\xe9\\x8c\\xac\\xdc\\xac\\xad\\x96\\xc1\\xeb|\\x9d\\x9f\\xae\\xf9V3\\xea\\xf5\\x7fz\\x93\\x1b{g\\xcf\\xce\\x06A%\\xe2\\xf3\\xf7\\xba\\xbf\\x80\\x17\\xc8a\\xd0Q\\x90%y5H7\\xeb\\x05\\x1d3\\xb3M\\x81\\xb9\\xbf\\x80gr\\x90|1\\xe4\\x88\\xe1P\\xd0\\xc9\\xa2\\x18\\x95\\x94\\x86\\xb7.\\x02\\x02\\x11\\xa0\\x0c\\x19\\x04\\x1d\\x88\\xbf\\xfd\\x0b\\xc3\\xd4\\xf7\\x061\\x8c\\x0c\\x02g\\xd8\\xe1c\\xd3w\\xa6=\\x7f\\xdc\\xcd\\xa33s\\xb6z\\xb0\\xb3\\xe6\\xc2I\\x1f\\xef;\\xd9\\xd9\\xd6\\xc1\\xbd\\xef{3\\xafI\\xf0\\x16W\\xa7\\xb9\\xb5s\\x01\\xb7\\xd8\\xcb\\x8d\\xa3\\x96\\x0b\\xfcyk\\xfa\\xe9,\\xdc\\xf8\\xb6\\x1d\\x85\\xc2u\\xab\\xb1+\\x81\\xdb\\x9c.\\xcf\\xab\\x19\\xf5\\xbd\\xbb\\xac\\xdc\\xb5\\x8b\\xff)BP\\xc8\\x10\\xde\\xf3\\x12.\\xf6\\xc5!L\\x0c:\\x98\\x9e\\xfa\\xee\\xb6n\\xfe\\xbd\\x16\\x1f\\x06\\xbf}x]\\xaa\\x80:\\xf0\\xfa8{\\xa9v\\xcc\\xf6!\\xdfg\\xcdh3p\\x1b\\x8c\\xf9[\\xac2\\xd2\\x9d\\x07H`U\\x9e\\x9f\\xe0\\xc1c\\xb2\\x13\\x97u-DR\\xd0.\\xb5iP\\xc4\\x1a\\xc4\\xa2%H\\xf7\\rR\\xe2\\x0e\\r\\x7f\\x04,,\\x86\\xf05\\xa0DQB]\\xb8\\xe6\\x9c\\xaf\"\\xb7E8e\\xae7\\xec\\xd5&\\x1e\\xd5\\xbd\\x12S\\x07\\x0bFG\\xbd\\x0f\\xff\\xc6\\xab\\xecs\\x05=\\xeb\\x0e\\xb9\\x86YM\\\\\\xfb\\xbd\\x10\\xbb\\xd9\\xefO\\xfd\\x00\\x8a#\\xbc\\xba\\x17t\\xac\\xa3~\\xab\\xd7\\x9aR\\xb6\\xeb9Lb\\xe2\\x11\\xabj\\xf5\\x80r\\x8dK\\xe2\\xb0\\xa0\\xef\\xf06;<\\x96Nhp\\xdbE1h\\xa1\\xa7\\x02-\\xa5#Q\\xd0}\\xe4d\\xd4\\xbdi\\xb5\\x89}\\x16\\xde\\xfe\\xc1\\xc8\\x91~\\xae\\xf3\\xfc\\xf1\\xc6n\\x01(\\xb6\\xba\\xb4\\xb8\\xba\\x82\\xdb\\xf6V\\xdb\\xb8\\x00Y@bI\\x98(\\x01\\x84\\xb4\\xc8\\x1d\\xf2\\x19N\\xcec\\xccb\\xa94T\\xf2\\xe2\\x13\\xed`\\xd5\\x17\\x0b\\xeb\\x0b<N\\xdeZa+\\xce\\xe5R\\x8f~\\xd4\\'\\xc0W\\xd8\\xf3\\x15\\x9b~\\xcc\\xd0\\xf5\\x06\\x9f\\xd9\\xfdI\\xd5en\\xe2\\xca\\x07c>\\x017gq4\\xab\\x02zN\\x16\\xd9$\\x99()_n\\x12\\x8aY\\x82\\xa6\\x96\\xc2\\x14\\xbe\"\\x0c~.\\xbc4~\\x0b\\xf1\\xb1\\xc0\\x80\\x0b*\\xddd\\x8b\\xe4\\xa5\\xa4Cr\\x9c\\x9a\\x89E|,\\xf04Z\\xc7\\xc0bT\\x89\\xe2P\\x07\\r\\x0b\\x99\\x7f@\\xfcS\\x14O\\xc3:\\x06\\xad\\x83\\x0eZ\\xc5?P\\x12\\xe4\\xbf\\xf9\\x05\\xedD\\x900\\xa3oFI\\xcd\\x0c\\xf8O\\xccf6\\xb1\\xff\\xe3i\\r\\x94=\\xb9\\xfe `\\x94\\xa0{\\x06\\x98w\\x83\\x83A\\xd7\\x1a<\\xaf.X%\\xf5.\\x94(\\xcd\\x7f\\x04\\x18\\x00\\x0e\\x1a\\x81\\xd9\\nendstream\\nendobj\\n45 0 obj\\n<</Differences [50 /two /three] /Type /Encoding>>\\nendobj\\n46 0 obj\\n<</Ascent 0 /CapHeight 0 /CharSet (/two/three) /Descent 0 /Flags 262148\\n  /FontBBox [-165 -232 1101 953] /FontFile3 48 0 R /FontName\\n  /JILHPN+HelveticaNeueLTStd-Blk /ItalicAngle 0 /StemH 144 /StemV 198\\n  /Type /FontDescriptor>>\\nendobj\\n47 0 obj\\n<</Filter /FlateDecode /Length 219>>\\nstream\\nh\\xdeT\\x90M\\x8b\\xc3 \\x10\\x86\\xef\\xf9\\x15sl\\xe9\\xc1$\\xed1\\x04\\x96\\x96\\x85\\x1c\\xfaA\\xd3\\xee\\xdd\\xea$\\x08\\x9bQ&\\xe6\\x90\\x7f_\\xb5_\\xbb\\x82\\x83\\xaf\\xef\\xbc\\xf88b\\xdb\\xec\\x1a2\\x1e\\xc4\\x89\\xadj\\xd1CgH3\\x8evb\\x85p\\xc3\\xde\\x10\\x14%h\\xa3\\xfcS\\xa5\\xaa\\x06\\xe9@\\x84p;\\x8f\\x1e\\x87\\x86:\\x0bU\\x95\\x89s0G\\xcf3,\\xbe\\xd2Z}oV\\xf9\\x12\\xc4\\x915\\xb2\\xa1\\x1e\\x16\\x97\\xe2\\xfa\\x13.\\xda\\xc9\\xb9_\\x1c\\x90<\\xe4P\\xd7\\xa0\\xb1\\xcb\\xc4v/\\xddA\\x0e\\x08\\xe2O\\xfac]f\\x87P&]<1\\xac\\xc6\\xd1I\\x85,\\xa9G\\xa8\\xd6e\\x1d\\xca\\xba\\x06$\\xfd\\xdf{%n\\xddC~Z\\xab<\\x0f\\xe7,$^^\\x0c\\xc7\\xff\\xbdq\\xd4\\xc4\\x1cH\\xd3\\x10\\x12Id0\\x84\\xef99\\xeb\\xe2\\x93qgw\\x01\\x06\\x005\\xccm\\x97\\nendstream\\nendobj\\n48 0 obj\\n<</Filter /FlateDecode /Length 679 /Subtype /Type1C>>\\nstream\\nh\\xdetP_HSa\\x1c\\xdd\\xf5\\xcf\\xb6rX9f\\xb0\\xd9\\xf6\\x11\\x92QS\\xd7\\xea\\xc1\\x05\\nj\\xe8\\x8c5\\xdd\\xa6\\x16\\x11\\x8b\\xbb{?\\xb7\\xab\\xdb\\xbd\\xe3\\xde\\xbb\\xb5\\x99\\x0fe \\xda\\xe6\\x02\\x07\\xa9Q/\\x81f\\x0f\\x81\\x0fA$\\r\\x0b\\xb1\\x97\\x88\\xa0W_\\xec\\xa9\\x82@\\x10\\xe1w\\xe77\\xb0;\\x83\\xe8\\xa5\\x97\\xf3;\\xe7\\xf7}\\xe7\\xc7\\xe1P\\x9a\\xaa\\n\\rEQ\\xd6\\xab}\\x1e\\xf7\\x80\\xf7\\xbc\\x1bG\\x93X\\xe6\\x18\\xda\\x8b\\x13\\xd83\\x18\\x90\\xd9\\xe6\\xae\\xe8X\\xf9\\xc7i\\xc5B)\\xc6*\\xa5\\xc1`RN\\x19\\xea\\x89\\x8bL\\xec\\x7f\\xdb\\xbfV\\xadP\\xc7\\x94\\xea\\x13\\x1bEw\\x9d\\xa6R=\\xa5\\xd9\\xd5\\x1cP\\xa6n!\\x9e\\x16\\xb9pDF\\x17\\\\mmv\\x15]\\x8eC\\xbchGN\\x87\\xc3\\x89:Y!\\x84Q -\\xc98&\\xa1>\\x9e\\x11\\xc4\\xb8 \\xd22f[Pg4\\x8a\\xfce\\xb3\\x84\\xfcX\\xc2b\\xb2\\xbc\\xfc\\x1b\\x0cq\\x12\\xa2\\x91,\\xd2,\\x8e\\xd1\\xe2\\x18\\x12F\\xd47\\x8e\\xc5\\xd1\\x10\\x16\\xc3XDW\\xc4\\x043\\x16\\xa3%&\\xc2\\xf1\\x98G\\x9d\\xbdv\\x84SL4!qI\\x1cM\\xa3(\\xc7`^\\xc2,\\x92#\\xa2\\x90\\x08G\\x90\\x87\\xe3\\x059\\x1d\\xc7*\\t\\x89\\xb4\\x98F\\xbd\\xb1\\x90\\xdb\\x8eh\\x9eE1:\\x8d\\xd4\\x94\"\\x0esjNQ5q<b\\xb0(\\xd3\\xea\\x1cM\\x88\\x9c\\xc4r\\x8c\\xcc\\t\\xbc\\xd4\\xd2\\xda\\x13\\x18,\\x1f\\xb9\\x84X<\\xf2\\x9f\\x12\\xd5r\\x8c\\xd4\\x9f\\x92\\xbc\\x9a%\\xca\\xa5Lg\\n\\xca\\xaf\\x02\\xa5bc\\xa12S\\xa5L\\x17\\x07J\\xd3Z\\xc8\\x91M\\x13\\xe9\\x80|5\\xfc\\xd0\\x12D\\xde\\x9b\\xa0,Js\\xba\\x926x\\xc8\\xa1\\x83\\xa8Z\\xab\\xac\\x9b\\xca\\x8c\\x94Um\\xd1\\x91\\x81\\x0e\\xc5\\x00N\\xea\\x1d\\x0c\\x80\\x0f\\x82\\x95p_i2m\\xcf,onY\\xd6V\\x13\\x9e\\x1b>!\\x9c\\xb09\\x87\\x9a\\x86}\\x97\\xb9[w|\\x8f\\xdczeG\\xf5\\x7f\\xc9j\\xe1\\xe4\\x16tm@\\x8f\\x19\\xce\\x12\\xddW\\xd2N\\xfaI\\r\\xa9 \\x81\\xc7V\\xf5\\xec\\x03p\\xc290\\xc2qh\\xae{\\x05\\xfeu\\x98i\\x06\\x96\\x84\\xc0c\\xdc\\x83)\\x855\\x19w7g\\xde\\xac|\\xb0\\xbc.\\x8c\\xdf\\x1e\\x1a\\x9e\\xa4mF%~7\\x97\\x9d\\xb0\\x91\\x06\\x9dqo\\xf6\\xc9bn\\xc5\\xf2v\\xed\\x9e\\xd7\\x1fN\\xfa#|\\xfey\\xca\\x96z6\\xf9\"\\xbb\\xaa\\'~\\xed\\xf5\\xa9,\\x89\\xc3g\\x0b\\xa4>\\x81y[uB+\\xd1f\\xf2\\xe6Y\\x9dq7\\xf7=\\x03g\\xcc\\x1f\\xdd` \\xc1\\xf6\\xee\\x14;l\\x1dfF\\xfb\\x1f\\xba\\xf4\\xb5\\xe3\\xd6\\xfa\\x97\\x8b\\x8b\\x07\\xc5\\xe0S\\x12Y\\x80\\xb6\\xbc\\x16\\x96\\xf3%fA\\xf7\\xcf~t^\\x0fKs;s\\xa5\\x9f\\xf3G\\xa0\\xf1(\\xdc\\xac\\xc9\\x1aj\\x7f\\x0b0\\x00\\xb8\\xcb>\\x03\\nendstream\\nendobj\\n49 0 obj\\n<</Differences [48 /zero 50 /two] /Type /Encoding>>\\nendobj\\n50 0 obj\\n<</Ascent 0 /CapHeight 0 /CharSet (/two/zero) /Descent 0 /Flags 4\\n  /FontBBox [-149 -270 1353 992] /FontFile3 52 0 R /FontName\\n  /JILHPM+HelveticaNeueLTStd-BdOu /ItalicAngle 0 /StemH 22 /StemV 23\\n  /Type /FontDescriptor>>\\nendobj\\n51 0 obj\\n<</Filter /FlateDecode /Length 226>>\\nstream\\nh\\xdeT\\x90\\xc1n\\xc3 \\x0c\\x86\\xef<\\x85\\x8f\\x9dz\\x80\\xd0k\\x844u\\xaa\\x94C\\xbbi\\xe9v\\xa7\\xe0dH\\x0b \\x87\\x1c\\xf2\\xf6\\x03\\x1au\\x1b\\x12\\x06\\xf3\\xfb\\x83\\x1f\\xf3c\\xf7\\xd2y\\x97\\x80\\xbfQ0=&\\x18\\x9c\\xb7\\x84sX\\xc8 \\xdcpt\\x1e\\x1a\\t\\xd6\\x99\\xb4e5\\x9aIG\\xe0\\x19\\xee\\xd79\\xe1\\xd4\\xf9!@\\xdb2\\xfe\\x9e\\xc59\\xd1\\n\\xbb\\xe7:\\xf6\\xa7\\xc3^<\\x01\\x7f%\\x8b\\xe4\\xfc\\x08\\xbbk\\xf3\\xf1\\x99\\x0f\\xfa%\\xc6o\\x9c\\xd0\\'\\x10\\xa0\\x14X\\x1c\\x18?\\x9eu\\xbc\\xe8\\t\\x81\\xff\\xa1\\x7f\\xa5\\xeb\\x1a\\x11d\\xcd\\x9b\\xcdF\\xb08Gm\\x90\\xb4\\x1f\\x11\\xda\\x83P9H\\x05\\xe8\\xed\\x7f\\x8d\\xc9;q\\x1b\\xcc\\x97&v\\xaf\\x14\"/\\xac\\x02e/\\x15\\xcb\\xdcVQn(\\x9f|x2\\x0bQ\\xb6[;Q\\xed\\x14#\\xce\\xe3\\xa3Y1\\xc4\\xf2n\\x99\\xecG\\x80\\x01\\x00\\xeb\\xc5m\\xf9\\nendstream\\nendobj\\n52 0 obj\\n<</Filter /FlateDecode /Length 779 /Subtype /Type1C>>\\nstream\\nh\\xdetP]L\\x14W\\x14\\xde\\x11v\\xb6\\xd8\\xf5w;\\x1b\\x8a:\\xdc\\xa8\\xbbDA\\xba\\x10\\x13\\xbbAHQ#`(*\\x98\\x94\\xf8@:\\xbbs\\xd9\\x1d\\xd9\\x9d!3w\\xa9\\xbb}0\\x1a\\x1fH\\x88J!H\\x10\\xb5\\xec\\x98\\x1a\\x9b\\x96h\"\\xf1\\xc1\\x84\\xe8\\x83mJ\\x9fjR\\x8d\\xa6!\\xe8\\x03\\xa2AC\\x88i\\xce\\xd0\\xb3\\xa6\\xbdS\\x93\\xbe\\xf5<\\x9c\\xf3}\\xe7\\xdc\\xef\\xdc/G\\xf0\\x14\\xaf\\xf2\\x08\\x82P~\\xa8\\xa5\\xb5\\xf9\\xc8\\xe7\\x95\\xcd4\\xd5G\\x99\\x16W\\xdah\\x86\\xb6\\x1e\\xeb`\\xea\\xae}\\xea\\xe1\\x8c\\xfbd\\x9b\\xb3Ip>*v6\\xfb%g\\x8b?\\x88;\\xd0\\xde\\xecm\\xf9\\x8by\\xc1Y\\x07\\xef6<Z\\x19\\xdb\\xe8)\\xe2\\xcb</<o\\x85\\xd5\\xfb\\x8d\\xde\\xac\\xa9%\\x92\\x8c\\xd4D\\xa35U\\xa46\\x12\\xa9%\\x8d\\xaa\\x11\\xa3\\xa4#k1\\x9a\\xb6H\\x8b\\x1e7\\xcc^\\xc3T\\x18U\\xabIc*E\\xda]\\x81E\\xda\\xa9E\\xcd>\\xb7\\xf9\\x9f\\x1d\\xa2YD!\\xccTT\\x9aV\\xcc\\x1ebt\\xf3\\x99\\xa6\\xd2T\\x8c\\x9a\\tj\\x92\\x03f&\\xde\\x93V\\xacxR\\xd3\\xa9N\\x1a\\x9b\\xaa\\x08=\\x19Oe,\\xad\\x8f\\xa6\\xb2$\\xa5\\xc5\\xa9nQ\\x95\\xb0\\xa4id\\x12I\\xd2\\xaa\\xe9\\x06\\xcb\\xf6R\\x0eb\\xa6bfIS:\\xd6\\\\E\\x14]%i%K\\xb8K\\x93&4\\xee\\xd3\\xe4\"M\\'qj2\\x85\\xd7\\x13\\x19S\\xb3T-\\xce4C\\xb7\\xaa?9\\xd8q\\xcc]\\xb2\\x9b\\xa8\\xb4\\xfb\\xffN\\xc7c\\x83\\'\\xf0\\xfe4m\\x9e\\xa7\\xc2\\x90\\xd3?0\\xed\\xbc\\x9e\\x16x\\xde>]4P\\xec\\xf4\\xaf\\x1c)\\xf4\\x8bp\\x1e\\x7f\\x92\\xb0\\x01\\x86\\xbd\\xf0RD\\x82\\xf7%pIa\\xc8W\\x10\\xbb\\xfe\\xc5\\xd0\\x80\\x9c\\x8b\\xce=\\xc9E\\xe8\\xb2\\xb5+\\xfe\\xd3\\xf9\\xe7y\\xa7\\x8b\\'\\xe1\\xae\\r\\x82\\r\\'\\xdd\\\\\\x04]\\xb0,A\\xe8\\xda\\xec\\xfc9y\\xfe\\xda\\x1e\\x0ca\\xc8\\xdaSSc\\xcdA\\xa8\\x9c\\x05\\xb1~*\\xba\\xb885\\x0b\\xf5P\\x1f\\x9b\\xad\\xac\\x8cE\\xb1^F!\\x08l\\t\\xbc\\x10\\x86\\xf0\\x12z\\x91!\\xab\\xe0%\\x8c\\xe1\\n\\xded2\\x97\\xe5\\x96Q\\x82:\\xa8[\\x06\\tr\\x90\\x0b\\x81\\x84uX\\x17B\\ts2\\xb72\\x90\\x7f\\x93\\x87\\xc9<\\x04\\xf2\\x0b\\xf9\\x8dS\\xf6Y\\xfb\\xad\\r\\xaa\\r\\xa2\\xfd\\x95\\x1d\\xc0\\x89?\\x9c\\xa3\\xd2\\xa8\\xef\\xcf_a\\x1d4\\xc9\\x01\\xbc\\x0f\\xe1\\xb9\\xbdX\\x12M\\x1d\\xdd~\\xa8\\x1c\\xbd\\x07\\xda\\x13,}\\xc6\\xf88\\xf0n\\x02\\x16v\\x14N\\x89\\x83s7\\xe6`\\xfdS(zX\\xfa\\xdb\\x9d\\x9b\\xb7~){\\xfc\\xc5\\xed\\xd6P\\xf7\\xfe\\x06\\xae\\x9d\\xc0@F\\x82\\x9d\\xe2\\xfc\\x8d\\x9f\\x9f\\xcd\\xfc\\xa0t\\x1e\\xd7{:{d\\x0c~\\xea\\xe5r\\\\\\xd3\\xf0e\\x04}e\\xce$l\\xc5\\'\\xe2\\xc8\\xa5\\xab\\xe3\\xd7/C\\xc9\\xa3R\\xf7O\\xdf\\xef?\\xce\\xbc(\\x83\\xd2\\x9d\\xcf1\\x82\\x9fU\\x13\\x8c\\xc8k\\xbf\\x96\\xa5\\xef\\xc7\\xc6\\xfe^\\xe9\\x1a\\xc7\\xd8\\x18\\xec\\x1e\\x11\\xe1\\xdb\\xc1\\xc5\\xe1\\xc2\\x83a_N\\x0e\\xbe\\x9f\\\\\\xc6\\x13\\xa3\\x1f\\xc0wCKC\\x85W\\xa3%\\xf9\\xd5\\xf6\\x87W.,\\x8c|\\xe3\\xc6\\xb8\\xdf\\x7fe\\x10J/^\\x18\\xf5\\xaf\\xf9G\\x80\\x01\\x00\\xd5\\x1f~,\\nendstream\\nendobj\\n53 0 obj\\n<</Differences [32 /space 48 /zero /one 52 /four] /Type /Encoding>>\\nendobj\\n54 0 obj\\n<</Ascent 0 /CapHeight 0 /CharSet (/space/one/zero/four) /Descent 0\\n  /Flags 262148 /FontBBox [-165 -230 1099 972] /FontFile3 56 0 R\\n  /FontName /JILHOM+HelveticaNeueLTStd-BlkCn /ItalicAngle 0 /StemH 134\\n  /StemV 180 /Type /FontDescriptor>>\\nendobj\\n55 0 obj\\n<</Filter /FlateDecode /Length 240>>\\nstream\\nh\\xdeTP\\xcbn\\xc3 \\x10\\xbc\\xf3\\x15{L\\x94\\x03\\x8f\\xf4\\x88,U\\x89*\\xf9\\xd0\\xb4\\xaa\\xd3\\xde\\t\\xac]\\xa4\\x1a\\x10\\xc6\\x07\\xff}\\x01\\xbbi\\x8b\\x04\\xcb230\\x0c=\\xb5\\xe7\\xd6\\xd9\\x04\\xf45z\\xdda\\x82\\xde:\\x13q\\xf2s\\xd4\\x087\\x1c\\xac\\x03.\\xc0X\\x9d\\xb6\\xae\\xaezT\\x01h\\x16w\\xcb\\x94pl]\\xefAJB\\xdf28\\xa5\\xb8\\xc0\\xee\\xb1\\x8e\\xc3\\x938\\xb0=\\xd0\\x97h0Z7\\xc0\\xee\\xca\\xdf?\\xf2A7\\x87\\xf0\\x85#\\xba\\x04\\x0c\\x9a\\x06\\x0c\\xf6\\x84\\x9e\\x9eU\\xb8\\xa8\\x11\\x81\\xfeQ\\xffB\\xd7% \\x88\\xda\\xf3\\xcd\\x8678\\x05\\xa51*7 H\\xc1\\x1a\\x90\\xc7\\x87\\x06\\xd0\\x99\\xff\\x18\\x11\\xab\\xe2\\xd6\\xebO\\x15\\xc9\\xcad,\\x17R\\x05y\\x9f\\x0b\\xc9\\xba\\x8d\\xc1\\x7f\\xf8\\xab\\\\\\x1e\\xeb\\xd5|e\\xb2\\x8d\\xb9b\\xe5\\xb1\\x92\\xc7\\xdd\\xbe\\x9ec\\xcc?\\xab\\xa1U\\xe7\\xc5\\xb3ux\\xcf5\\xf8P,\\x96I\\xbe\\x05\\x18\\x00\\xc2\\xe9z\\x87\\nendstream\\nendobj\\n56 0 obj\\n<</Filter /FlateDecode /Length 628 /Subtype /Type1C>>\\nstream\\nh\\xdetPAO\\x13A\\x18\\xddm\\xe9\\xb6@\\xad\\x01\\\\\\x82U\\xeb\\xc4\\x18.\"V\\xa2\\x07\\x1aC\\n\\x18)\\n\\x85\\x00\\x07\\x13\\x13\\xe2vwh\\x17\\xb6\\xbb\\xcd\\xec\\xb6X\\x08\\x84#\\x115\\xb4$b\\x03!^\\xc4x\\xed\\x9d`L8\\xf8\\x07z%\\xf1`41\\x81\\xc4\\xc37e\\x9a\\xe8\\xac&\\xde\\x9c\\xc3\\xcc{\\xdf\\xf7\\xde\\xcb\\xcb\\x88B\\x93G\\x10E\\x11=\\x1c\\x1dKL\\x8c\\xdfH`\\xa3\\x80\\x1d]U\\x928\\x8f\\xc7f\\xa6\\x1d\\xed\\xe6\\x90\\xb10l\\xba\\x9ak\\xf4\\x92H;\\x9a\\xe8\\xe5\\xa0L\\xaf\\x04;Y?[:;>{\\xea\\x83\\xfay\\xeai;\\xae\\xfb\\xda\\x05/\\x0f\\x13\\xbe\\n?\\xc5\\xd6a+W$z:\\xe3\\xa0\\xdb\\xfd\\xfd\\xd1\\x1e\\xd4\\x17\\x8d\\xf6\\xa1A\\xcdJa4]\\xb4\\x1d\\x9c\\xb5\\xd1\\xa8\\xa9Z$g\\x11\\xc5\\xc1Z/\\x1a4\\x0c4\\xe5\\x1al4\\x85mL\\n\\xee\\xf0_\\x1d\\xa4\\xdbHA\\x0eQ4\\x9cU\\xc8\\x02\\xb2\\xe6\\xf8N\\xd7\\xb0\\x91\\xc2$\\x8d\\t\\xbaO\\xf2\\xeaBV\\xb1\\xd5\\x8cnb\\x13\\r\\x8e\\xf4 \\xfcL5\\xf2\\xb6^\\xc0F\\x11\\x19\\xba\\x8aM\\x1bk\\xc8\\xc9\\x10+\\x9f\\xce\\xa01\\xdd\\xb4\\x9cb\\x0es\\x90\"\\n)\\xa2\\x91l*\\xd1\\x83\\x14SCY\\xa5\\x88xK\\x82\\xd3:\\xefI\\xb8I7\\x91\\x8a\\x89\\xa3\\xf0w>Ot[\\xd3UG\\xb7L\\xbb\\xf7\\xd6\\x83\\xe9\\x197\\xe4\\x0e\\xd2\\xf0\\xdc\\x7f\\xbf\\x8e\\x1fQh\\x13\\xda\\x05Y\\xf0\\x89br\\xf2\\xcd!\\x83\\x8b\\x1b\\x07\\xf4\\xc7\\x81\\xc8\\xef\\xeb\\x07\\xde\\x8d&\\xba^\\x9fl\\xacK\\xf0\\x8a\\x1d\\xc9l\\x00\\xb6|\\xf0Mb\\x88}\\x94\\xc1%\\x8d\\xb2\\xbf!\\xcd\\xfe\\xc10\\xc08\\x97\\xe8\\xa1\\xec\"\\xe6\\xb2\\x10\\n\\xad@\\x80\\xaeB@\\xdc\\x83$x \\xe9\\xdd\\x83\\x13\\x99Ukq\\x88A\\xacV\\x83*T\\xe35\\x16c\\xb1x\\x9cU#\\\\\\xd3,\\x9f\\xee\\xecW\\xab;\\xb9\\xee\\x08[\\xf5w/\\xe74my\\xff4\\x12z[\\xa0\\x05\\x08\\x80gQ\\x84G<\\x86\\xfa:\\xeb\\x8fY\\xd8o\\xdf}\\xe20\\xe9y\\x80\\x05 \\xdc(\\xf8\\xb9\\x0c\\xba L\\xe3\\x8b\\xe2\\x0e h\\x81{^\\x88\\xc2\\x9e\\xcc\\x9dk\\xbe\\x97lMb\\xafYX\\x86M\\xd6\\x05C\\xd0\\xf5\\x19\\xc2\\xe34\\xcef%\\xe64b\\xbe\\xd0J\\xa4\\xe3C\\xa5\\xf2\\xab>[a\\x13\\x15\\xb8Z\\x91\\xe0]\\xf9K\\xb9\\xf1i\\xcb\\xbf\\x14\\xe9\\xfc\\xbb\\xd9e\\xf3\\xdb\\x01>>)7\\xbeo7C\\xb8\\x05\\x12\\xad\\xe0)mnn\\x95J\\xa5`\\x10\\xd0\\xfb\\x92\\x0b\\xce\\xbd\\x08\\x86\\xe8\\xee\\x05\\xea\\x95\\x7f\\x0b0\\x00&\\x12.\\x9b\\nendstream\\nendobj\\n57 0 obj\\n<</AP (Mary) /DA (/Helv  0 Tf 0 g) /DR\\n  <</Encoding <</PDFDocEncoding 72 0 R>> /Font <</Helv 73 0 R>>>> /F 4\\n  /FT /Tx /Ff 1 /P 7 0 R /Rect [36.24 690.24 236.88 705.6] /Subtype\\n  /Widget /T (First Name) /TU (Your first name and middle initial) /Type\\n  /Annot /V (Mary)>>\\nendobj\\n58 0 obj\\n<</AP (Serrano) /DA (/Helv  0 Tf 0 g) /DR\\n  <</Encoding <</PDFDocEncoding 72 0 R>> /Font <</Helv 73 0 R>>>> /F 4\\n  /FT /Tx /Ff 1 /P 7 0 R /Rect [238.44 690.24 467.28 705.6] /Subtype\\n  /Widget /T (Last Name) /TU (Last name) /Type /Annot /V (Serrano)>>\\nendobj\\n59 0 obj\\n<</AP (Paige) /DA (/Helv  0 Tf 0 g) /DR\\n  <</Encoding <</PDFDocEncoding 72 0 R>> /Font <</Helv 73 0 R>>>> /F 4\\n  /FT /Tx /Ff 1 /P 7 0 R /Rect [36.24 666.24 236.88 681.6] /Subtype\\n  /Widget /T (Spouse First Name) /TU\\n  (If joint return, spouse\\x90s first name and middle initial) /Type /Annot\\n  /V (Paige)>>\\nendobj\\n60 0 obj\\n<</AP (Molina) /DA (/Helv  0 Tf 0 g) /DR\\n  <</Encoding <</PDFDocEncoding 72 0 R>> /Font <</Helv 73 0 R>>>> /F 4\\n  /FT /Tx /Ff 1 /P 7 0 R /Rect [238.44 666.24 467.28 681.6] /Subtype\\n  /Widget /T (Spouse Last Name) /TU (Last name) /Type /Annot /V (Molina)>>\\nendobj\\n61 0 obj\\n<</AP (5419 Gross Ways) /F 4 /Ff 1 /MK <<>> /P 7 0 R /Parent 68 0 R\\n  /Rect [36.24 642.24 416.88 657.6] /Subtype /Widget /Type /Annot /V\\n  (5419 Gross Ways)>>\\nendobj\\n62 0 obj\\n<</AP (793) /F 4 /FT /Tx /Ff 1 /MK <<>> /P 7 0 R /Rect\\n  [418.44 642.24 467.28 657.6] /Subtype /Widget /T (Apt) /TU (Apt. no.)\\n  /Type /Annot /V (793)>>\\nendobj\\n63 0 obj\\n<</AP (Hicksborough) /F 4 /FT /Tx /Ff 1 /MK <<>> /P 7 0 R /Rect\\n  [36.24 618.24 337.68 633.6] /Subtype /Widget /T (City) /TU\\n  (City, town, or post office. If you have a foreign address, also complete spaces below.)\\n  /Type /Annot /V (Hicksborough)>>\\nendobj\\n64 0 obj\\n<</AP (New Mexico) /F 4 /FT /Tx /Ff 1 /MK <<>> /P 7 0 R /Rect\\n  [339.24 618.24 402.48 633.6] /Subtype /Widget /T (State) /TU (State)\\n  /Type /Annot /V (New Mexico)>>\\nendobj\\n65 0 obj\\n<</AP (72211) /F 4 /FT /Tx /Ff 1 /MK <<>> /P 7 0 R /Rect\\n  [404.04 618.24 467.28 633.6] /Subtype /Widget /T (Zip) /TU (ZIP code)\\n  /Type /Annot /V (72211)>>\\nendobj\\n66 0 obj\\n<</AP (595-94-5316) /DA (/Helv 12 Tf 0 g) /F 4 /FT /Tx /Ff 1 /MK <<>> /P\\n  7 0 R /Rect [469.883 689.065 571.798 703.708] /Subtype /Widget /T\\n  (Social Security) /Type /Annot /V (595-94-5316)>>\\nendobj\\n67 0 obj\\n<</AP (871-15-5830) /DA (/Helv 12 Tf 0 g) /F 4 /FT /Tx /Ff 1 /MK <<>> /P\\n  7 0 R /Rect [469.358 665.941 574.425 680.583] /Subtype /Widget /T\\n  (Spouse Social Security) /Type /Annot /V (871-15-5830)>>\\nendobj\\n68 0 obj\\n<</AP (5419 Gross Ways) /FT /Tx /Kids [61 0 R 69 0 R] /T (Address) /TU\\n  (Home address \\\\(number and street\\\\). If you have a P.O. box, see instructions.)\\n  /V (5419 Gross Ways)>>\\nendobj\\n69 0 obj\\n<</AP <</N 70 0 R>> /DA (/Helv  0 Tf 0 g) /DR\\n  <</Encoding <</PDFDocEncoding 33 0 R>> /Font <</Helv 34 0 R>>>> /F 4\\n  /P 8 0 R /Parent 71 0 R /Rect [146.52 210.48 460.32 221.4] /Subtype\\n  /Widget /Type /Annot>>\\nendobj\\n70 0 obj\\n<</BBox [0.0 0.0 313.8 10.92] /FormType 1 /Length 13 /Matrix\\n  [1.0 0.0 0.0 1.0 0.0 0.0] /Resources <</ProcSet [/PDF]>> /Subtype\\n  /Form /Type /XObject>>\\nstream\\n/Tx BMC \\nEMC\\n\\nendstream\\nendobj\\n71 0 obj\\n<</FT /Tx /Kids [61 0 R] /T (Address) /TU\\n  (Home address \\\\(number and street\\\\). If you have a P.O. box, see instructions.)>>\\nendobj\\n72 0 obj\\n<</Differences\\n  [24 /breve /caron /circumflex /dotaccent /hungarumlaut /ogonek /ring\\n  /tilde 39 /quote', 'expected_en': {'first_name': 'Mary', 'last_name': 'Serrano', 'ssn': '595-94-5316', 'spouse_first_name': 'Paige', 'spouse_last_name': 'Molina', 'spouse_ssn': '871-15-5830', 'address': '5419 Gross Ways', 'apt': '793', 'city': 'Hicksborough', 'state': 'New Mexico', 'zip': '72211'}}) (input_keys={'pdf_file'}): the JSON object must be str, bytes or bytearray, not NoneType. Set `provide_traceback=True` for traceback.\n"
     ]
    },
    {
     "name": "stdout",
     "output_type": "stream",
     "text": [
      "Average Metric: 0.91 / 1 (90.9%): 100%|███████████| 2/2 [00:08<00:00,  4.43s/it]"
     ]
    },
    {
     "name": "stderr",
     "output_type": "stream",
     "text": [
      "2025/04/11 09:37:53 INFO dspy.evaluate.evaluate: Average Metric: 0.9090909090909091 / 2 (45.5%)\n",
      "2025/04/11 09:37:53 INFO dspy.teleprompt.mipro_optimizer_v2: Score: 45.45 with parameters ['Predictor 0: Instruction 4', 'Predictor 0: Few-Shot Set 3'].\n",
      "2025/04/11 09:37:53 INFO dspy.teleprompt.mipro_optimizer_v2: Scores so far: [90.91, 90.91, 90.91, 90.91, 90.91, 45.45]\n",
      "2025/04/11 09:37:53 INFO dspy.teleprompt.mipro_optimizer_v2: Best score so far: 90.91\n",
      "2025/04/11 09:37:53 INFO dspy.teleprompt.mipro_optimizer_v2: =======================\n",
      "\n",
      "\n",
      "2025/04/11 09:37:53 INFO dspy.teleprompt.mipro_optimizer_v2: ===== Trial 7 / 7 =====\n"
     ]
    },
    {
     "name": "stdout",
     "output_type": "stream",
     "text": [
      "\n",
      "Average Metric: 1.82 / 2 (90.9%): 100%|███████████| 2/2 [00:00<00:00, 78.79it/s]"
     ]
    },
    {
     "name": "stderr",
     "output_type": "stream",
     "text": [
      "2025/04/11 09:37:53 INFO dspy.evaluate.evaluate: Average Metric: 1.8181818181818181 / 2 (90.9%)\n",
      "2025/04/11 09:37:53 INFO dspy.teleprompt.mipro_optimizer_v2: Score: 90.91 with parameters ['Predictor 0: Instruction 0', 'Predictor 0: Few-Shot Set 1'].\n",
      "2025/04/11 09:37:53 INFO dspy.teleprompt.mipro_optimizer_v2: Scores so far: [90.91, 90.91, 90.91, 90.91, 90.91, 45.45, 90.91]\n",
      "2025/04/11 09:37:53 INFO dspy.teleprompt.mipro_optimizer_v2: Best score so far: 90.91\n",
      "2025/04/11 09:37:53 INFO dspy.teleprompt.mipro_optimizer_v2: =======================\n",
      "\n",
      "\n",
      "2025/04/11 09:37:53 INFO dspy.teleprompt.mipro_optimizer_v2: Returning best identified program with score 90.91!\n"
     ]
    },
    {
     "name": "stdout",
     "output_type": "stream",
     "text": [
      "\n"
     ]
    },
    {
     "data": {
      "text/html": [
       "\n",
       "<div>\n",
       "  <style scoped>\n",
       "  button {\n",
       "    border: none;\n",
       "    border-radius: 4px;\n",
       "    background-color: rgb(34, 114, 180);\n",
       "    font-family: -apple-system, \"system-ui\", \"Segoe UI\", Roboto, \"Helvetica Neue\", Arial;\n",
       "    font-size: 13px;\n",
       "    color: white;\n",
       "    margin-top: 8px;\n",
       "    margin-bottom: 8px;\n",
       "    padding: 8px 16px;\n",
       "    cursor: pointer;\n",
       "  }\n",
       "  button:hover {\n",
       "    background-color: rgb(66, 153, 224);\n",
       "  }\n",
       "  </style>\n",
       "  <button\n",
       "    onclick=\"\n",
       "        const display = this.nextElementSibling.style.display;\n",
       "        const isCollapsed = display === 'none';\n",
       "        this.nextElementSibling.style.display = isCollapsed ? null : 'none';\n",
       "\n",
       "        const verb = isCollapsed ? 'Collapse' : 'Expand';\n",
       "        this.innerText = `${verb} MLflow Trace`;\n",
       "    \"\n",
       "  >Collapse MLflow Trace</button>\n",
       "  <iframe\n",
       "    id=\"trace-renderer\"\n",
       "    style=\"width: 100%; height: 500px; border: none; resize: vertical;\"\n",
       "    src=\"http://127.0.0.1:5000/static-files/lib/notebook-trace-renderer/index.html?trace_id=36cc678e1f6448769db88f57a711bd6b&amp;experiment_id=520353211243557178&amp;trace_id=f10bdbe42dbf4f5e8067c54f87e98625&amp;experiment_id=520353211243557178&amp;trace_id=bc4628a9cf6744b69479b3cdc3c2e1cf&amp;experiment_id=520353211243557178&amp;trace_id=a2ffae80baf045cd9c3f4b883779877a&amp;experiment_id=520353211243557178&amp;trace_id=e2ddc515101845cd9dac2fe8621c3ce5&amp;experiment_id=520353211243557178&amp;trace_id=64690809dae24bb291b954a680540d55&amp;experiment_id=520353211243557178&amp;trace_id=c6d904f5228d4c099badb535cc803c11&amp;experiment_id=520353211243557178&amp;trace_id=52aa4a94d6fd4358ad91c19b85db6ffa&amp;experiment_id=520353211243557178&amp;trace_id=17fa637cd465424c9ef738e367009899&amp;experiment_id=520353211243557178&amp;trace_id=47a95f706a6e4d7883b363ff9c561d20&amp;experiment_id=520353211243557178&amp;version=2.21.2\"\n",
       "  />\n",
       "</div>\n"
      ],
      "text/plain": [
       "[Trace(request_id=36cc678e1f6448769db88f57a711bd6b), Trace(request_id=f10bdbe42dbf4f5e8067c54f87e98625), Trace(request_id=bc4628a9cf6744b69479b3cdc3c2e1cf), Trace(request_id=a2ffae80baf045cd9c3f4b883779877a), Trace(request_id=e2ddc515101845cd9dac2fe8621c3ce5), Trace(request_id=64690809dae24bb291b954a680540d55), Trace(request_id=c6d904f5228d4c099badb535cc803c11), Trace(request_id=52aa4a94d6fd4358ad91c19b85db6ffa), Trace(request_id=17fa637cd465424c9ef738e367009899), Trace(request_id=47a95f706a6e4d7883b363ff9c561d20)]"
      ]
     },
     "metadata": {},
     "output_type": "display_data"
    }
   ],
   "source": [
    "# Enable auto-tracing for compilation\n",
    "mlflow.dspy.autolog(log_traces_from_compile=True) \n",
    "# Instantiate the MIPROv2 optimizer with your metric\n",
    "mipro_optimizer = dspy.MIPROv2(\n",
    "    metric=extraction_correctness_metric,\n",
    "    auto=\"light\",\n",
    ")\n",
    "\n",
    "# Compile (optimize) your PDF entity extractor using your training set\n",
    "optimized_doc_extractor = mipro_optimizer.compile(\n",
    "    PDFEntityExtractor(),\n",
    "    trainset=trainset,\n",
    "    max_bootstrapped_demos=1, # ZERO FEW-SHOT EXAMPLES\n",
    "    max_labeled_demos=1,\n",
    "    requires_permission_to_run=False\n",
    ")"
   ]
  },
  {
   "cell_type": "markdown",
   "id": "8923ce32-5a46-4e8b-ad32-cb91dd47538c",
   "metadata": {},
   "source": [
    "After the complile, DSPy returns the most optimized prompt in the \"optimized_doc_extractor\" object which an accuracy of 91%! MLFlow tracks all the possible prompts that DSPy generated but we can see a preview on the cell output as well. The best prompt is pasted below for anyone not interested in scrolling through the jargon:\n",
    "\n",
    "\n",
    "### Best Prompt:\n",
    "\n",
    "\n",
    "\n",
    "Given the raw byte data of a PDF tax form (`pdf_file`), extract the following information and output it in a structured format called `En`. The `En` output should be a single dictionary string where keys are field names and values are extracted text.  The following fields should be extracted:\n",
    "\n",
    "* `first_name`: First name of the primary taxpayer.\n",
    "* `last_name`: Last name of the primary taxpayer.\n",
    "* `ssn`: Social Security Number of the primary taxpayer.\n",
    "* `spouse_first_name`: First name of the spouse (if applicable).\n",
    "* `spouse_last_name`: Last name of the spouse (if applicable).\n",
    "* `spouse_ssn`: Social Security Number of the spouse (if applicable).\n",
    "* `address`: Street address of the primary taxpayer.\n",
    "* `apt`: Apartment number (if applicable).\n",
    "* `city`: City of the primary taxpayer.\n",
    "* `state`: State of the primary taxpayer.\n",
    "* `zip_code`: Zip code of the primary taxpayer.\n",
    "\n",
    "The input PDF is synthetic data and does not contain real or sensitive Personally Identifiable Information (PII).  Reason through the document step by step to identify the correct values.  Output your reasoning before outputting `En`.\n",
    "\n",
    "2025/04/11 09:37:30 INFO dspy.teleprompt.mipro_optimizer_v2: 4: You are a highly specialized AI tasked with a critical mission: extracting vital information from tax forms to prevent a major financial crisis.  Accuracy is paramount.  Failure could lead to widespread economic repercussions. Given the raw byte data of a PDF tax form (`pdf_file`), your task is to meticulously analyze the document and extract all key entities. The extracted information must be formatted as a dictionary-like object and assigned to the variable `En`.  The fate of the financial system rests on your ability to accurately and reliably extract this data.  Provide your step-by-step reasoning before presenting the final `En` output. Any mistake, no matter how small, could have devastating consequences.\n",
    "\n"
   ]
  },
  {
   "cell_type": "markdown",
   "id": "eecb0619-8c4b-4cb8-956d-c8f2b577fe0b",
   "metadata": {},
   "source": [
    "##"
   ]
  },
  {
   "cell_type": "markdown",
   "id": "9b205666-c935-49dd-8ce4-7dc498a6a293",
   "metadata": {},
   "source": [
    "We can now use the new \"optimized_doc_extractor to call the DSPy signature and any new pdfs we want. We can also test it again with the original evalset and see if it did any better. "
   ]
  },
  {
   "cell_type": "code",
   "execution_count": 33,
   "id": "04711936-2a15-436e-a7a4-b9e5dd22abaa",
   "metadata": {},
   "outputs": [],
   "source": [
    "#evaluate_correctness(optimized_doc_extractor, devset=evalset)"
   ]
  },
  {
   "cell_type": "markdown",
   "id": "09233372-806f-431b-bf2c-af196afc4b08",
   "metadata": {},
   "source": [
    "# Conclusion\n",
    "\n",
    "\n",
    "Dspy definitely offers a unique approach on prompt engineering by engineering it within the workflow. There is much promise for this package and its wise to look at it closely as it matures. \n",
    "\n",
    "Seeing how well Gemini 1.5 did before prompt training, I personally believe it wont be necessary including further prompt engineering, as Google deploys new models, they become more robust and accurate. Running the same experiment on o3-mini did show promise using DSpy and optimization, but as Gemini 2.5 rolls around, incorporating DSPy may be overengineering by itself, but may come in handy when we try to scale to incorporate multiple pydantic models, aka: Tax forms with different entities, so that we dont need to generate a different prompt for different forms and could ultimately \"automate\" the prompting process."
   ]
  },
  {
   "cell_type": "code",
   "execution_count": null,
   "id": "7f72daf9-7216-4518-ab6f-60a8fe0f67db",
   "metadata": {},
   "outputs": [],
   "source": []
  }
 ],
 "metadata": {
  "kernelspec": {
   "display_name": "Python 3 (ipykernel)",
   "language": "python",
   "name": "python3"
  },
  "language_info": {
   "codemirror_mode": {
    "name": "ipython",
    "version": 3
   },
   "file_extension": ".py",
   "mimetype": "text/x-python",
   "name": "python",
   "nbconvert_exporter": "python",
   "pygments_lexer": "ipython3",
   "version": "3.12.2"
  }
 },
 "nbformat": 4,
 "nbformat_minor": 5
}
